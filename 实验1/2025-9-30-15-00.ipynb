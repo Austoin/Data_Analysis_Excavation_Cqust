{
 "cells": [
  {
   "cell_type": "markdown",
   "id": "de208d1a",
   "metadata": {},
   "source": [
    "##### 1. Numpy 使用"
   ]
  },
  {
   "cell_type": "markdown",
   "id": "23789683",
   "metadata": {},
   "source": [
    "> 1. 库的导入"
   ]
  },
  {
   "cell_type": "code",
   "execution_count": 37,
   "id": "a82d5b09",
   "metadata": {},
   "outputs": [],
   "source": [
    "import numpy as np"
   ]
  },
  {
   "cell_type": "markdown",
   "id": "6ca9c43c",
   "metadata": {},
   "source": [
    "> 2. 数组的创建 1 （常规）："
   ]
  },
  {
   "cell_type": "code",
   "execution_count": 38,
   "id": "6e9c7ca7",
   "metadata": {},
   "outputs": [
    {
     "name": "stdout",
     "output_type": "stream",
     "text": [
      "a :\n",
      "[1 2 3]\n",
      "\n",
      "a.shape = (3,)\n",
      "\n",
      "b :\n",
      "[[1]\n",
      " [2]\n",
      " [3]]\n",
      "\n",
      "b.shape = (3, 1)\n",
      "\n",
      "c :\n",
      "[[1 2 3 4]\n",
      " [5 6 7 8]]\n",
      "\n",
      "c.shape = (2, 4)\n",
      "\n"
     ]
    }
   ],
   "source": [
    "a = np.array([1, 2, 3])\n",
    "b = a.reshape(3, 1) # 三行一列\n",
    "c = np.array([[1, 2, 3, 4], [5, 6, 7, 8]])\n",
    "\n",
    "print(f'a :\\n{a}\\n')\n",
    "print(f'a.shape = {a.shape}\\n')\n",
    "\n",
    "print(f'b :\\n{b}\\n')\n",
    "print(f'b.shape = {b.shape}\\n')\n",
    "\n",
    "print(f'c :\\n{c}\\n')\n",
    "print(f'c.shape = {c.shape}\\n')\n"
   ]
  },
  {
   "cell_type": "markdown",
   "id": "51996e99",
   "metadata": {},
   "source": [
    "> 3. 数组的创建 2 （特殊数组—全0数组、全1数组、随机数数组等）："
   ]
  },
  {
   "cell_type": "code",
   "execution_count": 39,
   "id": "da14fafc",
   "metadata": {},
   "outputs": [],
   "source": [
    "d1 = np.zeros((2, 3))  # 3行4列的全0数组\n",
    "d2 = np.zeros_like(c)  # 形状和c一样的全0数组\n",
    "e1 = np.ones((2, 3))   # 2行3列的全1数组\n",
    "e2 = np.ones_like(c)   # 形状和c一样的全1数组\n",
    "\n",
    "f = np.random.rand(2, 3)     # 2行3列的均匀分布随机数数组,区间[0,1)\n",
    "g = np.random.uniform(0, 10, (2, 3)) # [0,10)均匀分布随机数数组,2行3列\n",
    "\n",
    "h = np.random.randn(2, 3)    # 2行3列的标准正态分布随机数数组\n",
    "i = np.random.normal(1, 3, (2, 3)) # 均值1，标准差3的正态分布随机数数组,2行3列\n",
    "\n",
    "j = np.random.randint(0, 10, (2, 3)) # [0,10)均匀分布整数随机数数组,2行3列\n",
    "k = np.random.random((2, 3))  # 2行3列的均匀抽样分布随机数组,区间[0,1)"
   ]
  },
  {
   "cell_type": "code",
   "execution_count": 40,
   "id": "6f868fc0",
   "metadata": {},
   "outputs": [
    {
     "name": "stdout",
     "output_type": "stream",
     "text": [
      "d1 :\n",
      "[[0. 0. 0.]\n",
      " [0. 0. 0.]]\n",
      "\n",
      "d1.shape = (2, 3)\n",
      "\n",
      "d2 :\n",
      "[[0 0 0 0]\n",
      " [0 0 0 0]]\n",
      "\n",
      "d2.shape = (2, 4)\n",
      "\n",
      "e1 :\n",
      "[[1. 1. 1.]\n",
      " [1. 1. 1.]]\n",
      "\n",
      "e1.shape = (2, 3)\n",
      "\n",
      "e2 :\n",
      "[[1 1 1 1]\n",
      " [1 1 1 1]]\n",
      "\n",
      "e2.shape = (2, 4)\n",
      "\n"
     ]
    }
   ],
   "source": [
    "# 输出创建的数组\n",
    "print(f'd1 :\\n{d1}\\n')\n",
    "print(f'd1.shape = {d1.shape}\\n')\n",
    "\n",
    "print(f'd2 :\\n{d2}\\n')\n",
    "print(f'd2.shape = {d2.shape}\\n')\n",
    "\n",
    "print(f'e1 :\\n{e1}\\n')\n",
    "print(f'e1.shape = {e1.shape}\\n')\n",
    "\n",
    "print(f'e2 :\\n{e2}\\n')\n",
    "print(f'e2.shape = {e2.shape}\\n')"
   ]
  },
  {
   "cell_type": "code",
   "execution_count": 41,
   "id": "9d290b05",
   "metadata": {},
   "outputs": [
    {
     "name": "stdout",
     "output_type": "stream",
     "text": [
      "f :\n",
      "[[0.98243576 0.8446615  0.75672982]\n",
      " [0.34715213 0.62550093 0.44269749]]\n",
      "\n",
      "f.shape = (2, 3)\n",
      "\n",
      "g :\n",
      "[[3.28093877 8.40607462 4.45129199]\n",
      " [7.85898355 5.956335   7.62158162]]\n",
      "\n",
      "g.shape = (2, 3)\n",
      "\n",
      "h :\n",
      "[[-0.19886053 -0.23361273  1.26393959]\n",
      " [-1.30840963 -0.04628892  1.35181499]]\n",
      "\n",
      "h.shape = (2, 3)\n",
      "\n"
     ]
    }
   ],
   "source": [
    "print(f'f :\\n{f}\\n')\n",
    "print(f'f.shape = {f.shape}\\n')\n",
    "\n",
    "print(f'g :\\n{g}\\n')\n",
    "print(f'g.shape = {g.shape}\\n')\n",
    "\n",
    "print(f'h :\\n{h}\\n')\n",
    "print(f'h.shape = {h.shape}\\n')"
   ]
  },
  {
   "cell_type": "code",
   "execution_count": 42,
   "id": "c8c244c4",
   "metadata": {},
   "outputs": [
    {
     "name": "stdout",
     "output_type": "stream",
     "text": [
      "i :\n",
      "[[ 6.34447682  1.86633422  3.77209302]\n",
      " [ 2.37045228 -2.44742166 -1.38414402]]\n",
      "\n",
      "i.shape = (2, 3)\n",
      "\n",
      "j :\n",
      "[[1 6 2]\n",
      " [4 9 3]]\n",
      "\n",
      "j.shape = (2, 3)\n",
      "\n",
      "k :\n",
      "[[0.22024057 0.7042564  0.87870698]\n",
      " [0.40795351 0.5868781  0.75173741]]\n",
      "\n",
      "k.shape = (2, 3)\n",
      "\n"
     ]
    }
   ],
   "source": [
    "print(f'i :\\n{i}\\n')\n",
    "print(f'i.shape = {i.shape}\\n')\n",
    "\n",
    "print(f'j :\\n{j}\\n')\n",
    "print(f'j.shape = {j.shape}\\n')\n",
    "\n",
    "print(f'k :\\n{k}\\n')\n",
    "print(f'k.shape = {k.shape}\\n')"
   ]
  },
  {
   "cell_type": "markdown",
   "id": "9f29f9e7",
   "metadata": {},
   "source": [
    "> 4. 数组的创建 3 （由数值范围创建数组）："
   ]
  },
  {
   "cell_type": "code",
   "execution_count": 43,
   "id": "2b08789f",
   "metadata": {},
   "outputs": [
    {
     "name": "stdout",
     "output_type": "stream",
     "text": [
      "l :\n",
      "[0 1 2 3 4 5 6 7 8 9]\n",
      "\n",
      "l.shape = (10,)\n",
      "\n",
      "m :\n",
      "[ 1.  2.  3.  4.  5.  6.  7.  8.  9. 10.]\n",
      "\n",
      "m.shape = (10,)\n",
      "\n"
     ]
    }
   ],
   "source": [
    "l = np.arange(10)        # 0到9的一维数组\n",
    "m = np.linspace(1, 10, 10) # 等差数列，起点1，终点10，10个数\n",
    "\n",
    "print(f'l :\\n{l}\\n')\n",
    "print(f'l.shape = {l.shape}\\n')\n",
    "\n",
    "print(f'm :\\n{m}\\n')\n",
    "print(f'm.shape = {m.shape}\\n')"
   ]
  },
  {
   "cell_type": "markdown",
   "id": "8c88a5b3",
   "metadata": {},
   "source": [
    "> 5. 数据类型： "
   ]
  },
  {
   "cell_type": "markdown",
   "id": "363ad8be",
   "metadata": {},
   "source": [
    "![数据类型](../img/1.png)"
   ]
  },
  {
   "cell_type": "code",
   "execution_count": 47,
   "id": "657c91ba",
   "metadata": {},
   "outputs": [
    {
     "name": "stdout",
     "output_type": "stream",
     "text": [
      "n :\n",
      "[1 2 3]\n",
      "\n",
      "n.dtype = int32\n",
      "\n",
      "s :\n",
      "['a' 'b' 'c']\n",
      "\n",
      "s.dtype = <U1\n",
      "\n"
     ]
    }
   ],
   "source": [
    "# 举例\n",
    "n = np.array([1, 2, 3], dtype=np.int32)  # 指定数据类型为int32\n",
    "r = np.array([True, False, True], dtype=np.bool_)  # 指定数据类型为布尔型\n",
    "\n",
    "# 输出\n",
    "print(f'n :\\n{n}\\n')\n",
    "print(f'n.dtype = {n.dtype}\\n')\n",
    "\n",
    "print(f's :\\n{s}\\n')\n",
    "print(f's.dtype = {s.dtype}\\n')"
   ]
  },
  {
   "cell_type": "markdown",
   "id": "d8f26ca1",
   "metadata": {},
   "source": [
    "> 6. 数组属性"
   ]
  },
  {
   "cell_type": "markdown",
   "id": "77d8a4f5",
   "metadata": {},
   "source": [
    "![](../img/2.png)"
   ]
  },
  {
   "cell_type": "code",
   "execution_count": 50,
   "id": "5e42f674",
   "metadata": {},
   "outputs": [
    {
     "name": "stdout",
     "output_type": "stream",
     "text": [
      "n.shape :\n",
      "(3,)\n",
      "\n",
      "n.ndim :\n",
      "1\n",
      "\n"
     ]
    }
   ],
   "source": [
    "# 举例\n",
    "n = np.array([1, 2, 3])\n",
    "\n",
    "#输出\n",
    "print(f'n.shape :\\n{n.shape}\\n')\n",
    "\n",
    "print(f'n.ndim :\\n{n.ndim}\\n')"
   ]
  },
  {
   "cell_type": "markdown",
   "id": "1b9869bd",
   "metadata": {},
   "source": [
    "> 7. 切片（切片切取部分作新数组）："
   ]
  },
  {
   "cell_type": "code",
   "execution_count": null,
   "id": "42efea40",
   "metadata": {},
   "outputs": [],
   "source": [
    "sl = slice(2, 7, 2) # 从索引2开始到索引7，步长为2\n",
    "n = l[sl]"
   ]
  }
 ],
 "metadata": {
  "kernelspec": {
   "display_name": "Data_Analysis",
   "language": "python",
   "name": "python3"
  },
  "language_info": {
   "codemirror_mode": {
    "name": "ipython",
    "version": 3
   },
   "file_extension": ".py",
   "mimetype": "text/x-python",
   "name": "python",
   "nbconvert_exporter": "python",
   "pygments_lexer": "ipython3",
   "version": "3.13.7"
  }
 },
 "nbformat": 4,
 "nbformat_minor": 5
}
