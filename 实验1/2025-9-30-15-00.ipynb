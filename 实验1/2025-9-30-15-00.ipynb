{
 "cells": [
  {
   "cell_type": "markdown",
   "id": "de208d1a",
   "metadata": {},
   "source": [
    "##### 1. Numpy 使用"
   ]
  },
  {
   "cell_type": "markdown",
   "id": "23789683",
   "metadata": {},
   "source": [
    "> 1. 库的导入"
   ]
  },
  {
   "cell_type": "code",
   "execution_count": 2,
   "id": "a82d5b09",
   "metadata": {},
   "outputs": [],
   "source": [
    "import numpy as np"
   ]
  },
  {
   "cell_type": "markdown",
   "id": "6ca9c43c",
   "metadata": {},
   "source": [
    "> 2. 数组的创建 1 （常规）："
   ]
  },
  {
   "cell_type": "code",
   "execution_count": 3,
   "id": "6e9c7ca7",
   "metadata": {},
   "outputs": [
    {
     "name": "stdout",
     "output_type": "stream",
     "text": [
      "a :\n",
      "[1 2 3]\n",
      "\n",
      "a.shape = (3,)\n",
      "\n",
      "b :\n",
      "[[1]\n",
      " [2]\n",
      " [3]]\n",
      "\n",
      "b.shape = (3, 1)\n",
      "\n",
      "c :\n",
      "[[1 2 3 4]\n",
      " [5 6 7 8]]\n",
      "\n",
      "c.shape = (2, 4)\n",
      "\n"
     ]
    }
   ],
   "source": [
    "a = np.array([1, 2, 3])\n",
    "b = a.reshape(3, 1) # 三行一列\n",
    "c = np.array([[1, 2, 3, 4], [5, 6, 7, 8]])\n",
    "\n",
    "print(f'a :\\n{a}\\n')\n",
    "print(f'a.shape = {a.shape}\\n')\n",
    "\n",
    "print(f'b :\\n{b}\\n')\n",
    "print(f'b.shape = {b.shape}\\n')\n",
    "\n",
    "print(f'c :\\n{c}\\n')\n",
    "print(f'c.shape = {c.shape}\\n')\n"
   ]
  },
  {
   "cell_type": "markdown",
   "id": "51996e99",
   "metadata": {},
   "source": [
    "> 3. 数组的创建 2 （特殊数组—全0数组、全1数组、随机数数组等）："
   ]
  },
  {
   "cell_type": "code",
   "execution_count": 4,
   "id": "da14fafc",
   "metadata": {},
   "outputs": [],
   "source": [
    "d1 = np.zeros((2, 3))  # 3行4列的全0数组\n",
    "d2 = np.zeros_like(c)  # 形状和c一样的全0数组\n",
    "e1 = np.ones((2, 3))   # 2行3列的全1数组\n",
    "e2 = np.ones_like(c)   # 形状和c一样的全1数组\n",
    "\n",
    "f = np.random.rand(2, 3)     # 2行3列的均匀分布随机数数组,区间[0,1)\n",
    "g = np.random.uniform(0, 10, (2, 3)) # [0,10)均匀分布随机数数组,2行3列\n",
    "\n",
    "h = np.random.randn(2, 3)    # 2行3列的标准正态分布随机数数组\n",
    "i = np.random.normal(1, 3, (2, 3)) # 均值1，标准差3的正态分布随机数数组,2行3列\n",
    "\n",
    "j = np.random.randint(0, 10, (2, 3)) # [0,10)均匀分布整数随机数数组,2行3列\n",
    "k = np.random.random((2, 3))  # 2行3列的均匀抽样分布随机数组,区间[0,1)"
   ]
  },
  {
   "cell_type": "code",
   "execution_count": 5,
   "id": "6f868fc0",
   "metadata": {},
   "outputs": [
    {
     "name": "stdout",
     "output_type": "stream",
     "text": [
      "d1 :\n",
      "[[0. 0. 0.]\n",
      " [0. 0. 0.]]\n",
      "\n",
      "d1.shape = (2, 3)\n",
      "\n",
      "d2 :\n",
      "[[0 0 0 0]\n",
      " [0 0 0 0]]\n",
      "\n",
      "d2.shape = (2, 4)\n",
      "\n",
      "e1 :\n",
      "[[1. 1. 1.]\n",
      " [1. 1. 1.]]\n",
      "\n",
      "e1.shape = (2, 3)\n",
      "\n",
      "e2 :\n",
      "[[1 1 1 1]\n",
      " [1 1 1 1]]\n",
      "\n",
      "e2.shape = (2, 4)\n",
      "\n"
     ]
    }
   ],
   "source": [
    "# 输出创建的数组\n",
    "print(f'd1 :\\n{d1}\\n')\n",
    "print(f'd1.shape = {d1.shape}\\n')\n",
    "\n",
    "print(f'd2 :\\n{d2}\\n')\n",
    "print(f'd2.shape = {d2.shape}\\n')\n",
    "\n",
    "print(f'e1 :\\n{e1}\\n')\n",
    "print(f'e1.shape = {e1.shape}\\n')\n",
    "\n",
    "print(f'e2 :\\n{e2}\\n')\n",
    "print(f'e2.shape = {e2.shape}\\n')"
   ]
  },
  {
   "cell_type": "code",
   "execution_count": 6,
   "id": "9d290b05",
   "metadata": {},
   "outputs": [
    {
     "name": "stdout",
     "output_type": "stream",
     "text": [
      "f :\n",
      "[[0.48458375 0.99655212 0.44470288]\n",
      " [0.91681353 0.17130107 0.88111541]]\n",
      "\n",
      "f.shape = (2, 3)\n",
      "\n",
      "g :\n",
      "[[1.15260193 6.19660601 0.47877034]\n",
      " [2.01397054 5.7102159  2.79269925]]\n",
      "\n",
      "g.shape = (2, 3)\n",
      "\n",
      "h :\n",
      "[[-0.54116401 -0.73206963 -1.36109537]\n",
      " [ 0.14752799  0.7412053  -0.09254828]]\n",
      "\n",
      "h.shape = (2, 3)\n",
      "\n"
     ]
    }
   ],
   "source": [
    "print(f'f :\\n{f}\\n')\n",
    "print(f'f.shape = {f.shape}\\n')\n",
    "\n",
    "print(f'g :\\n{g}\\n')\n",
    "print(f'g.shape = {g.shape}\\n')\n",
    "\n",
    "print(f'h :\\n{h}\\n')\n",
    "print(f'h.shape = {h.shape}\\n')"
   ]
  },
  {
   "cell_type": "code",
   "execution_count": 7,
   "id": "c8c244c4",
   "metadata": {},
   "outputs": [
    {
     "name": "stdout",
     "output_type": "stream",
     "text": [
      "i :\n",
      "[[ 3.12508549e+00  3.31255728e-03 -2.80782697e-01]\n",
      " [ 3.12466417e+00  5.84444909e-01  4.00012293e+00]]\n",
      "\n",
      "i.shape = (2, 3)\n",
      "\n",
      "j :\n",
      "[[0 0 2]\n",
      " [7 2 4]]\n",
      "\n",
      "j.shape = (2, 3)\n",
      "\n",
      "k :\n",
      "[[0.7062117  0.98328244 0.13996696]\n",
      " [0.75780939 0.91325767 0.04975248]]\n",
      "\n",
      "k.shape = (2, 3)\n",
      "\n"
     ]
    }
   ],
   "source": [
    "print(f'i :\\n{i}\\n')\n",
    "print(f'i.shape = {i.shape}\\n')\n",
    "\n",
    "print(f'j :\\n{j}\\n')\n",
    "print(f'j.shape = {j.shape}\\n')\n",
    "\n",
    "print(f'k :\\n{k}\\n')\n",
    "print(f'k.shape = {k.shape}\\n')"
   ]
  },
  {
   "cell_type": "markdown",
   "id": "9f29f9e7",
   "metadata": {},
   "source": [
    "> 4. 数组的创建 3 （由数值范围创建数组）："
   ]
  },
  {
   "cell_type": "code",
   "execution_count": 10,
   "id": "2b08789f",
   "metadata": {},
   "outputs": [
    {
     "name": "stdout",
     "output_type": "stream",
     "text": [
      "l :\n",
      "[0 1 2 3 4 5 6 7 8 9]\n",
      "\n",
      "l.shape = (10,)\n",
      "\n",
      "m :\n",
      "[ 1.  2.  3.  4.  5.  6.  7.  8.  9. 10.]\n",
      "\n",
      "m.shape = (10,)\n",
      "\n"
     ]
    }
   ],
   "source": [
    "l = np.arange(10)        # 0到9的一维数组\n",
    "m = np.linspace(1, 10, 10) # 等差数列，起点1，终点10，10个数\n",
    "\n",
    "print(f'l :\\n{l}\\n')\n",
    "print(f'l.shape = {l.shape}\\n')\n",
    "\n",
    "print(f'm :\\n{m}\\n')\n",
    "print(f'm.shape = {m.shape}\\n')"
   ]
  },
  {
   "cell_type": "markdown",
   "id": "8c88a5b3",
   "metadata": {},
   "source": [
    "> 5. 数据类型： "
   ]
  },
  {
   "cell_type": "code",
   "execution_count": 11,
   "id": "657c91ba",
   "metadata": {},
   "outputs": [
    {
     "name": "stdout",
     "output_type": "stream",
     "text": [
      "n :\n",
      "[1 2 3]\n",
      "\n",
      "n.dtype = int32\n",
      "\n",
      "r :\n",
      "[ True False  True]\n",
      "\n",
      "r.dtype = bool\n",
      "\n"
     ]
    }
   ],
   "source": [
    "# 举例\n",
    "n = np.array([1, 2, 3], dtype=np.int32)  # 指定数据类型为int32\n",
    "r = np.array([True, False, True], dtype=np.bool_)  # 指定数据类型为布尔型\n",
    "\n",
    "# 输出\n",
    "print(f'n :\\n{n}\\n')\n",
    "print(f'n.dtype = {n.dtype}\\n')\n",
    "\n",
    "print(f'r :\\n{r}\\n')\n",
    "print(f'r.dtype = {r.dtype}\\n')"
   ]
  },
  {
   "cell_type": "markdown",
   "id": "d8f26ca1",
   "metadata": {},
   "source": [
    "> 6. 数组属性"
   ]
  },
  {
   "cell_type": "code",
   "execution_count": 12,
   "id": "5e42f674",
   "metadata": {},
   "outputs": [
    {
     "name": "stdout",
     "output_type": "stream",
     "text": [
      "n.shape :\n",
      "(3,)\n",
      "\n",
      "n.ndim :\n",
      "1\n",
      "\n"
     ]
    }
   ],
   "source": [
    "# 举例\n",
    "n = np.array([1, 2, 3])\n",
    "\n",
    "#输出\n",
    "print(f'n.shape :\\n{n.shape}\\n')\n",
    "\n",
    "print(f'n.ndim :\\n{n.ndim}\\n')"
   ]
  },
  {
   "cell_type": "markdown",
   "id": "1b9869bd",
   "metadata": {},
   "source": [
    "> 7. 切片（切片切取部分作新数组）："
   ]
  },
  {
   "cell_type": "code",
   "execution_count": 18,
   "id": "42efea40",
   "metadata": {},
   "outputs": [
    {
     "name": "stdout",
     "output_type": "stream",
     "text": [
      "sl : slice(2, 7, 2)\n",
      "\n",
      "n :\n",
      "[2 4 6]\n",
      "\n",
      "n.shape = (3,)\n",
      "\n"
     ]
    }
   ],
   "source": [
    "sl = slice(2, 7, 2) # 从索引2开始到索引7，步长为2\n",
    "n = l[sl]  # l = np.arange(10)  \n",
    "print(f'sl : {sl}\\n')\n",
    "print(f'n :\\n{n}\\n')\n",
    "print(f'n.shape = {n.shape}\\n')"
   ]
  },
  {
   "cell_type": "markdown",
   "id": "50d624dc",
   "metadata": {},
   "source": [
    "> 8. 索引"
   ]
  },
  {
   "cell_type": "code",
   "execution_count": 24,
   "id": "2dc74b77",
   "metadata": {},
   "outputs": [
    {
     "name": "stdout",
     "output_type": "stream",
     "text": [
      "o1 :\n",
      "[2 4 6]\n",
      "\n",
      "o2 :\n",
      "[2 3 4 5 6 7 8 9]\n",
      "\n",
      "p1 :\n",
      "[2 6]\n",
      "\n",
      "p2 :\n",
      "[5 6 7 8]\n",
      "\n",
      "p3 :\n",
      "[1 8]\n",
      "\n",
      "p4 :\n",
      "[6 7 8]\n",
      "\n"
     ]
    }
   ],
   "source": [
    "l = np.arange(10)\n",
    "c = np.array([[1, 2, 3, 4], [5, 6, 7, 8]])\n",
    "\n",
    "o1 = l[2:7:2]\n",
    "o2 = l[2:]\n",
    "\n",
    "p1 = c[...,  1]  # 第二列\n",
    "p2 = c[1, ...]  # 第二行\n",
    "p3 = c[[0, 1], [0, 3]]  # (0,0)和(1,3)位置的元素\n",
    "p4 = c[c > 5]  # 大于5的元素\n",
    "\n",
    "print(f'o1 :\\n{o1}\\n')\n",
    "print(f'o2 :\\n{o2}\\n')\n",
    "\n",
    "print(f'p1 :\\n{p1}\\n')\n",
    "print(f'p2 :\\n{p2}\\n')\n",
    "print(f'p3 :\\n{p3}\\n')\n",
    "print(f'p4 :\\n{p4}\\n')"
   ]
  },
  {
   "cell_type": "markdown",
   "id": "fbe34237",
   "metadata": {},
   "source": [
    "> 9. 常用函数"
   ]
  },
  {
   "cell_type": "code",
   "execution_count": 28,
   "id": "41f06ed0",
   "metadata": {},
   "outputs": [
    {
     "name": "stdout",
     "output_type": "stream",
     "text": [
      "q1 (sum) : 45\n",
      "\n",
      "q2 (prod) : 0\n",
      "\n",
      "q3 (mean) : 4.5\n",
      "\n",
      "q4 (max) : 9\n",
      "\n",
      "q5 (min) : 0\n",
      "\n",
      "q6 (clip 2 to 5) :\n",
      "[2 2 2 3 4 5 5 5 5 5]\n",
      "\n",
      "q7 (var) : 8.25\n",
      "\n",
      "q8 (std) : 2.8722813232690143\n",
      "\n"
     ]
    }
   ],
   "source": [
    "l = np.arange(10)\n",
    "\n",
    "q1 = l.sum()\n",
    "q2 = l.prod() # 连乘\n",
    "q3 = l.mean() # 平均值\n",
    "q4 = l.max()\n",
    "q5 = l.min()\n",
    "q6 = l.clip(2, 5) # 限制在2到5之间\n",
    "q7 = l.var() # 方差\n",
    "q8 = l.std() # 标准差\n",
    "\n",
    "print(f'q1 (sum) : {q1}\\n')\n",
    "print(f'q2 (prod) : {q2}\\n')\n",
    "print(f'q3 (mean) : {q3}\\n')\n",
    "print(f'q4 (max) : {q4}\\n')\n",
    "print(f'q5 (min) : {q5}\\n')\n",
    "print(f'q6 (clip 2 to 5) :\\n{q6}\\n')\n",
    "print(f'q7 (var) : {q7}\\n')\n",
    "print(f'q8 (std) : {q8}\\n')"
   ]
  },
  {
   "cell_type": "markdown",
   "id": "b3a37a75",
   "metadata": {},
   "source": [
    "##### 2. Pandas使用"
   ]
  },
  {
   "cell_type": "markdown",
   "id": "6ae29f67",
   "metadata": {},
   "source": [
    "> 1. 库的导入："
   ]
  },
  {
   "cell_type": "code",
   "execution_count": 30,
   "id": "65a9bbee",
   "metadata": {},
   "outputs": [],
   "source": [
    "import pandas as pd"
   ]
  },
  {
   "cell_type": "markdown",
   "id": "a056d234",
   "metadata": {},
   "source": [
    "> 2. 序列操作：（series）"
   ]
  },
  {
   "cell_type": "code",
   "execution_count": 39,
   "id": "4da5edf5",
   "metadata": {},
   "outputs": [
    {
     "name": "stdout",
     "output_type": "stream",
     "text": [
      "0    a\n",
      "1    b\n",
      "2    c\n",
      "3    d\n",
      "dtype: object\n",
      "\n",
      "101    a\n",
      "102    b\n",
      "103    c\n",
      "104    d\n",
      "dtype: object\n"
     ]
    }
   ],
   "source": [
    "# 创建1 （numpy数组创建）\n",
    "\n",
    "import pandas as pd\n",
    "import numpy as np\n",
    "\n",
    "data = np.array(['a', 'b', 'c', 'd'])\n",
    "s = pd.Series(data)\n",
    "\n",
    "# 隐式索引\n",
    "print(s)\n",
    "\n",
    "# 显式索引\n",
    "s = pd.Series(data, index=[101, 102, 103, 104])\n",
    "print(f'\\n{s}')"
   ]
  },
  {
   "cell_type": "code",
   "execution_count": 40,
   "id": "e77087b0",
   "metadata": {},
   "outputs": [
    {
     "name": "stdout",
     "output_type": "stream",
     "text": [
      "\n",
      "a    1\n",
      "b    2\n",
      "c    3\n",
      "dtype: int64\n"
     ]
    }
   ],
   "source": [
    "# 创建2 （字典创建）\n",
    "\n",
    "import pandas as pd\n",
    "import numpy as np\n",
    "\n",
    "data = {'a': 1, 'b': 2, 'c': 3}\n",
    "s = pd.Series(data)\n",
    "print(f'\\n{s}')"
   ]
  },
  {
   "cell_type": "code",
   "execution_count": 46,
   "id": "b8f7011e",
   "metadata": {},
   "outputs": [
    {
     "name": "stdout",
     "output_type": "stream",
     "text": [
      "a    10\n",
      "b    20\n",
      "c    30\n",
      "d    40\n",
      "e    50\n",
      "dtype: int64\n",
      "\n",
      "s[0] : 10\n",
      "s[a] : 10\n"
     ]
    },
    {
     "name": "stderr",
     "output_type": "stream",
     "text": [
      "C:\\Users\\liu'zhi'gui\\AppData\\Local\\Temp\\ipykernel_48552\\2513427400.py:8: FutureWarning: Series.__getitem__ treating keys as positions is deprecated. In a future version, integer keys will always be treated as labels (consistent with DataFrame behavior). To access a value by position, use `ser.iloc[pos]`\n",
      "  print(f'\\ns[0] : {s[0]}')\n"
     ]
    }
   ],
   "source": [
    "# 访问元素\n",
    "\n",
    "import pandas as pd\n",
    "s = pd.Series([10, 20, 30, 40, 50], index=['a', 'b', 'c', 'd', 'e'])\n",
    "\n",
    "print(s)\n",
    "\n",
    "print(f'\\ns[0] : {s[0]}')\n",
    "print(f's[a] : {s['a']}')"
   ]
  },
  {
   "cell_type": "markdown",
   "id": "e4df98d3",
   "metadata": {},
   "source": [
    "> 3. 数据框操作：（data frame）"
   ]
  },
  {
   "cell_type": "code",
   "execution_count": 50,
   "id": "6742c45d",
   "metadata": {},
   "outputs": [
    {
     "name": "stdout",
     "output_type": "stream",
     "text": [
      "   0\n",
      "0  1\n",
      "1  2\n",
      "2  3\n",
      "3  4\n",
      "4  5\n",
      "5  6\n"
     ]
    }
   ],
   "source": [
    "# 创建1 （列表创建）\n",
    "\n",
    "import pandas as pd\n",
    "\n",
    "data = [1, 2, 3, 4, 5, 6]\n",
    "df = pd.DataFrame(data)\n",
    "\n",
    "print(df)"
   ]
  },
  {
   "cell_type": "code",
   "execution_count": 52,
   "id": "605e0eb5",
   "metadata": {},
   "outputs": [
    {
     "name": "stdout",
     "output_type": "stream",
     "text": [
      "      Name  Age\n",
      "0    Alice   25\n",
      "1      Bob   30\n",
      "2  Austoin   21\n",
      "3      Tom   35\n"
     ]
    }
   ],
   "source": [
    "# 创建2 (字典嵌套列表创建)\n",
    "\n",
    "import pandas as pd\n",
    "\n",
    "data = {'Name': ['Alice', 'Bob', 'Austoin', 'Tom'],\n",
    "        'Age': [25, 30, 21, 35]}\n",
    "df = pd.DataFrame(data)\n",
    "print(df)"
   ]
  },
  {
   "cell_type": "code",
   "execution_count": 53,
   "id": "6bd99f9f",
   "metadata": {},
   "outputs": [
    {
     "name": "stdout",
     "output_type": "stream",
     "text": [
      "   a  b    c\n",
      "0  1  2  NaN\n",
      "1  3  4  5.0\n"
     ]
    }
   ],
   "source": [
    "# 创建3 （列表嵌套字典）\n",
    "\n",
    "import pandas as pd\n",
    "\n",
    "data = [{'a': 1, 'b': 2}, {'a': 3, 'b': 4, 'c': 5}]\n",
    "df = pd.DataFrame(data)\n",
    "print(df)"
   ]
  },
  {
   "cell_type": "code",
   "execution_count": 58,
   "id": "2c888672",
   "metadata": {},
   "outputs": [
    {
     "name": "stdout",
     "output_type": "stream",
     "text": [
      "   one  two\n",
      "a  1.0    1\n",
      "b  2.0    2\n",
      "c  3.0    3\n",
      "d  NaN    4\n"
     ]
    }
   ],
   "source": [
    "# 创建4 （Series序列创建）\n",
    "\n",
    "import pandas as pd\n",
    "\n",
    "data = {'one': pd.Series([1, 2, 3], index=['a', 'b', 'c']),\n",
    "        'two': pd.Series([1, 2, 3, 4], index=['a', 'b', 'c', 'd'])}\n",
    "df = pd.DataFrame(data)\n",
    "print(df)"
   ]
  },
  {
   "cell_type": "code",
   "execution_count": 64,
   "id": "d5b3a346",
   "metadata": {},
   "outputs": [
    {
     "name": "stdout",
     "output_type": "stream",
     "text": [
      "a    1.0\n",
      "b    2.0\n",
      "c    3.0\n",
      "d    NaN\n",
      "Name: one, dtype: float64\n",
      "\n",
      "one    2.0\n",
      "two    2.0\n",
      "Name: b, dtype: float64\n",
      "\n",
      "one    3.0\n",
      "two    3.0\n",
      "Name: c, dtype: float64\n"
     ]
    }
   ],
   "source": [
    "# 索引1（列索引）\n",
    "print(df['one'], end='\\n\\n')\n",
    "\n",
    "# 索引2（行索引—使用标签）\n",
    "print(df.loc['b'], end='\\n\\n')\n",
    "\n",
    "# 索引3 (行索引-使用整数)\n",
    "print(df.iloc[2])"
   ]
  },
  {
   "cell_type": "code",
   "execution_count": 65,
   "id": "a3cbe887",
   "metadata": {},
   "outputs": [
    {
     "ename": "AttributeError",
     "evalue": "'DataFrame' object has no attribute 'append'",
     "output_type": "error",
     "traceback": [
      "\u001b[31m---------------------------------------------------------------------------\u001b[39m",
      "\u001b[31mAttributeError\u001b[39m                            Traceback (most recent call last)",
      "\u001b[32m~\\AppData\\Local\\Temp\\ipykernel_48552\\2447647798.py\u001b[39m in \u001b[36m?\u001b[39m\u001b[34m()\u001b[39m\n\u001b[32m      4\u001b[39m \n\u001b[32m      5\u001b[39m df1 = pd.DataFrame([[\u001b[32m1\u001b[39m, \u001b[32m2\u001b[39m], [\u001b[32m3\u001b[39m, \u001b[32m4\u001b[39m]], columns=[\u001b[33m'A'\u001b[39m, \u001b[33m'B'\u001b[39m])\n\u001b[32m      6\u001b[39m df2 = pd.DataFrame([[\u001b[32m5\u001b[39m, \u001b[32m6\u001b[39m], [\u001b[32m7\u001b[39m, \u001b[32m8\u001b[39m]], columns=[\u001b[33m'A'\u001b[39m, \u001b[33m'B'\u001b[39m])\n\u001b[32m      7\u001b[39m \n\u001b[32m----> \u001b[39m\u001b[32m8\u001b[39m df1  =df1.append(df2)\n\u001b[32m      9\u001b[39m print(df1)\n",
      "\u001b[32mf:\\Anaconda3\\envs\\Data_Analysis\\Lib\\site-packages\\pandas\\core\\generic.py\u001b[39m in \u001b[36m?\u001b[39m\u001b[34m(self, name)\u001b[39m\n\u001b[32m   6317\u001b[39m             \u001b[38;5;28;01mand\u001b[39;00m name \u001b[38;5;28;01mnot\u001b[39;00m \u001b[38;5;28;01min\u001b[39;00m self._accessors\n\u001b[32m   6318\u001b[39m             \u001b[38;5;28;01mand\u001b[39;00m self._info_axis._can_hold_identifiers_and_holds_name(name)\n\u001b[32m   6319\u001b[39m         ):\n\u001b[32m   6320\u001b[39m             \u001b[38;5;28;01mreturn\u001b[39;00m self[name]\n\u001b[32m-> \u001b[39m\u001b[32m6321\u001b[39m         \u001b[38;5;28;01mreturn\u001b[39;00m object.__getattribute__(self, name)\n",
      "\u001b[31mAttributeError\u001b[39m: 'DataFrame' object has no attribute 'append'"
     ]
    }
   ],
   "source": [
    "# 添加数据行(append 方法)\n",
    "\n",
    "import pandas as pd\n",
    "\n",
    "df1 = pd.DataFrame([[1, 2], [3, 4]], columns=['A', 'B'])\n",
    "df2 = pd.DataFrame([[5, 6], [7, 8]], columns=['A', 'B'])\n",
    "\n",
    "df1  =df1.append(df2)\n",
    "print(df1)"
   ]
  },
  {
   "cell_type": "code",
   "execution_count": 74,
   "id": "e35eac59",
   "metadata": {},
   "outputs": [
    {
     "name": "stdout",
     "output_type": "stream",
     "text": [
      "   A  B\n",
      "0  1  2\n",
      "1  3  4\n",
      "0  5  6\n",
      "1  7  8\n"
     ]
    }
   ],
   "source": [
    "# 从 Pandas 2.0 版本开始，append 方法被移除。官方推荐使用pandas.concat() 替代它。\n",
    "import pandas as pd\n",
    "\n",
    "df1 = pd.DataFrame([[1, 2], [3, 4]], columns=['A', 'B'])\n",
    "df2 = pd.DataFrame([[5, 6], [7, 8]], columns=['A', 'B'])\n",
    "\n",
    "df1  =pd.concat([df1, df2])\n",
    "print(df1)"
   ]
  },
  {
   "cell_type": "code",
   "execution_count": 75,
   "id": "dfbb7355",
   "metadata": {},
   "outputs": [
    {
     "name": "stdout",
     "output_type": "stream",
     "text": [
      "   A  B\n",
      "1  3  4\n",
      "1  7  8\n"
     ]
    }
   ],
   "source": [
    "# 删除数据行 (drop)\n",
    "\n",
    "import pandas as pd\n",
    "\n",
    "df1 = df1.drop(0)\n",
    "print(df1)"
   ]
  },
  {
   "cell_type": "code",
   "execution_count": 77,
   "id": "d601396f",
   "metadata": {},
   "outputs": [
    {
     "name": "stdout",
     "output_type": "stream",
     "text": [
      "           0     1       2     3     4     5       6\n",
      "Name     博客园  CSDN  Github    谷歌    百度    飞书  Bing搜索\n",
      "years   2004  1999    2008  1998  2000  2016    2009\n",
      "Rating   4.5   4.0     4.8   4.9   4.2   4.3     4.1\n"
     ]
    }
   ],
   "source": [
    "# 数据框属性\n",
    "\n",
    "import pandas as pd\n",
    "import numpy as np\n",
    "\n",
    "d = {'Name': pd.Series(['博客园', 'CSDN', 'Github', '谷歌', '百度', '飞书', 'Bing搜索']),\n",
    "     'years': pd.Series([2004, 1999, 2008, 1998, 2000, 2016, 2009]),\n",
    "     'Rating': pd.Series([4.5, 4.0, 4.8, 4.9, 4.2, 4.3, 4.1])}\n",
    "# 构建 DataFrame\n",
    "df = pd.DataFrame(d)\n",
    "\n",
    "#输出 DataFrame的转置\n",
    "print(df.T)"
   ]
  },
  {
   "cell_type": "code",
   "execution_count": 2,
   "id": "efd5299b",
   "metadata": {},
   "outputs": [
    {
     "ename": "TypeError",
     "evalue": "Could not convert ['小咪小美小明小华老刘老马小王'] to numeric",
     "output_type": "error",
     "traceback": [
      "\u001b[31m---------------------------------------------------------------------------\u001b[39m",
      "\u001b[31mTypeError\u001b[39m                                 Traceback (most recent call last)",
      "\u001b[36mCell\u001b[39m\u001b[36m \u001b[39m\u001b[32mIn[2]\u001b[39m\u001b[32m, line 12\u001b[39m\n\u001b[32m      9\u001b[39m df  = pd.DataFrame(d)\n\u001b[32m     11\u001b[39m \u001b[38;5;66;03m# 按列求平均值\u001b[39;00m\n\u001b[32m---> \u001b[39m\u001b[32m12\u001b[39m \u001b[38;5;28mprint\u001b[39m(\u001b[43mdf\u001b[49m\u001b[43m.\u001b[49m\u001b[43mmean\u001b[49m\u001b[43m(\u001b[49m\u001b[43m)\u001b[49m)\n\u001b[32m     14\u001b[39m \u001b[38;5;66;03m# 汇总性描述\u001b[39;00m\n\u001b[32m     15\u001b[39m \u001b[38;5;28mprint\u001b[39m(df.describe())\n",
      "\u001b[36mFile \u001b[39m\u001b[32mf:\\Anaconda3\\envs\\Data_Analysis\\Lib\\site-packages\\pandas\\core\\frame.py:11720\u001b[39m, in \u001b[36mDataFrame.mean\u001b[39m\u001b[34m(self, axis, skipna, numeric_only, **kwargs)\u001b[39m\n\u001b[32m  11712\u001b[39m \u001b[38;5;129m@doc\u001b[39m(make_doc(\u001b[33m\"\u001b[39m\u001b[33mmean\u001b[39m\u001b[33m\"\u001b[39m, ndim=\u001b[32m2\u001b[39m))\n\u001b[32m  11713\u001b[39m \u001b[38;5;28;01mdef\u001b[39;00m\u001b[38;5;250m \u001b[39m\u001b[34mmean\u001b[39m(\n\u001b[32m  11714\u001b[39m     \u001b[38;5;28mself\u001b[39m,\n\u001b[32m   (...)\u001b[39m\u001b[32m  11718\u001b[39m     **kwargs,\n\u001b[32m  11719\u001b[39m ):\n\u001b[32m> \u001b[39m\u001b[32m11720\u001b[39m     result = \u001b[38;5;28;43msuper\u001b[39;49m\u001b[43m(\u001b[49m\u001b[43m)\u001b[49m\u001b[43m.\u001b[49m\u001b[43mmean\u001b[49m\u001b[43m(\u001b[49m\u001b[43maxis\u001b[49m\u001b[43m,\u001b[49m\u001b[43m \u001b[49m\u001b[43mskipna\u001b[49m\u001b[43m,\u001b[49m\u001b[43m \u001b[49m\u001b[43mnumeric_only\u001b[49m\u001b[43m,\u001b[49m\u001b[43m \u001b[49m\u001b[43m*\u001b[49m\u001b[43m*\u001b[49m\u001b[43mkwargs\u001b[49m\u001b[43m)\u001b[49m\n\u001b[32m  11721\u001b[39m     \u001b[38;5;28;01mif\u001b[39;00m \u001b[38;5;28misinstance\u001b[39m(result, Series):\n\u001b[32m  11722\u001b[39m         result = result.__finalize__(\u001b[38;5;28mself\u001b[39m, method=\u001b[33m\"\u001b[39m\u001b[33mmean\u001b[39m\u001b[33m\"\u001b[39m)\n",
      "\u001b[36mFile \u001b[39m\u001b[32mf:\\Anaconda3\\envs\\Data_Analysis\\Lib\\site-packages\\pandas\\core\\generic.py:12485\u001b[39m, in \u001b[36mNDFrame.mean\u001b[39m\u001b[34m(self, axis, skipna, numeric_only, **kwargs)\u001b[39m\n\u001b[32m  12478\u001b[39m \u001b[38;5;28;01mdef\u001b[39;00m\u001b[38;5;250m \u001b[39m\u001b[34mmean\u001b[39m(\n\u001b[32m  12479\u001b[39m     \u001b[38;5;28mself\u001b[39m,\n\u001b[32m  12480\u001b[39m     axis: Axis | \u001b[38;5;28;01mNone\u001b[39;00m = \u001b[32m0\u001b[39m,\n\u001b[32m   (...)\u001b[39m\u001b[32m  12483\u001b[39m     **kwargs,\n\u001b[32m  12484\u001b[39m ) -> Series | \u001b[38;5;28mfloat\u001b[39m:\n\u001b[32m> \u001b[39m\u001b[32m12485\u001b[39m     \u001b[38;5;28;01mreturn\u001b[39;00m \u001b[38;5;28;43mself\u001b[39;49m\u001b[43m.\u001b[49m\u001b[43m_stat_function\u001b[49m\u001b[43m(\u001b[49m\n\u001b[32m  12486\u001b[39m \u001b[43m        \u001b[49m\u001b[33;43m\"\u001b[39;49m\u001b[33;43mmean\u001b[39;49m\u001b[33;43m\"\u001b[39;49m\u001b[43m,\u001b[49m\u001b[43m \u001b[49m\u001b[43mnanops\u001b[49m\u001b[43m.\u001b[49m\u001b[43mnanmean\u001b[49m\u001b[43m,\u001b[49m\u001b[43m \u001b[49m\u001b[43maxis\u001b[49m\u001b[43m,\u001b[49m\u001b[43m \u001b[49m\u001b[43mskipna\u001b[49m\u001b[43m,\u001b[49m\u001b[43m \u001b[49m\u001b[43mnumeric_only\u001b[49m\u001b[43m,\u001b[49m\u001b[43m \u001b[49m\u001b[43m*\u001b[49m\u001b[43m*\u001b[49m\u001b[43mkwargs\u001b[49m\n\u001b[32m  12487\u001b[39m \u001b[43m    \u001b[49m\u001b[43m)\u001b[49m\n",
      "\u001b[36mFile \u001b[39m\u001b[32mf:\\Anaconda3\\envs\\Data_Analysis\\Lib\\site-packages\\pandas\\core\\generic.py:12442\u001b[39m, in \u001b[36mNDFrame._stat_function\u001b[39m\u001b[34m(self, name, func, axis, skipna, numeric_only, **kwargs)\u001b[39m\n\u001b[32m  12438\u001b[39m nv.validate_func(name, (), kwargs)\n\u001b[32m  12440\u001b[39m validate_bool_kwarg(skipna, \u001b[33m\"\u001b[39m\u001b[33mskipna\u001b[39m\u001b[33m\"\u001b[39m, none_allowed=\u001b[38;5;28;01mFalse\u001b[39;00m)\n\u001b[32m> \u001b[39m\u001b[32m12442\u001b[39m \u001b[38;5;28;01mreturn\u001b[39;00m \u001b[38;5;28;43mself\u001b[39;49m\u001b[43m.\u001b[49m\u001b[43m_reduce\u001b[49m\u001b[43m(\u001b[49m\n\u001b[32m  12443\u001b[39m \u001b[43m    \u001b[49m\u001b[43mfunc\u001b[49m\u001b[43m,\u001b[49m\u001b[43m \u001b[49m\u001b[43mname\u001b[49m\u001b[43m=\u001b[49m\u001b[43mname\u001b[49m\u001b[43m,\u001b[49m\u001b[43m \u001b[49m\u001b[43maxis\u001b[49m\u001b[43m=\u001b[49m\u001b[43maxis\u001b[49m\u001b[43m,\u001b[49m\u001b[43m \u001b[49m\u001b[43mskipna\u001b[49m\u001b[43m=\u001b[49m\u001b[43mskipna\u001b[49m\u001b[43m,\u001b[49m\u001b[43m \u001b[49m\u001b[43mnumeric_only\u001b[49m\u001b[43m=\u001b[49m\u001b[43mnumeric_only\u001b[49m\n\u001b[32m  12444\u001b[39m \u001b[43m\u001b[49m\u001b[43m)\u001b[49m\n",
      "\u001b[36mFile \u001b[39m\u001b[32mf:\\Anaconda3\\envs\\Data_Analysis\\Lib\\site-packages\\pandas\\core\\frame.py:11589\u001b[39m, in \u001b[36mDataFrame._reduce\u001b[39m\u001b[34m(self, op, name, axis, skipna, numeric_only, filter_type, **kwds)\u001b[39m\n\u001b[32m  11585\u001b[39m     df = df.T\n\u001b[32m  11587\u001b[39m \u001b[38;5;66;03m# After possibly _get_data and transposing, we are now in the\u001b[39;00m\n\u001b[32m  11588\u001b[39m \u001b[38;5;66;03m#  simple case where we can use BlockManager.reduce\u001b[39;00m\n\u001b[32m> \u001b[39m\u001b[32m11589\u001b[39m res = \u001b[43mdf\u001b[49m\u001b[43m.\u001b[49m\u001b[43m_mgr\u001b[49m\u001b[43m.\u001b[49m\u001b[43mreduce\u001b[49m\u001b[43m(\u001b[49m\u001b[43mblk_func\u001b[49m\u001b[43m)\u001b[49m\n\u001b[32m  11590\u001b[39m out = df._constructor_from_mgr(res, axes=res.axes).iloc[\u001b[32m0\u001b[39m]\n\u001b[32m  11591\u001b[39m \u001b[38;5;28;01mif\u001b[39;00m out_dtype \u001b[38;5;129;01mis\u001b[39;00m \u001b[38;5;129;01mnot\u001b[39;00m \u001b[38;5;28;01mNone\u001b[39;00m \u001b[38;5;129;01mand\u001b[39;00m out.dtype != \u001b[33m\"\u001b[39m\u001b[33mboolean\u001b[39m\u001b[33m\"\u001b[39m:\n",
      "\u001b[36mFile \u001b[39m\u001b[32mf:\\Anaconda3\\envs\\Data_Analysis\\Lib\\site-packages\\pandas\\core\\internals\\managers.py:1519\u001b[39m, in \u001b[36mBlockManager.reduce\u001b[39m\u001b[34m(self, func)\u001b[39m\n\u001b[32m   1517\u001b[39m res_blocks: \u001b[38;5;28mlist\u001b[39m[Block] = []\n\u001b[32m   1518\u001b[39m \u001b[38;5;28;01mfor\u001b[39;00m blk \u001b[38;5;129;01min\u001b[39;00m \u001b[38;5;28mself\u001b[39m.blocks:\n\u001b[32m-> \u001b[39m\u001b[32m1519\u001b[39m     nbs = \u001b[43mblk\u001b[49m\u001b[43m.\u001b[49m\u001b[43mreduce\u001b[49m\u001b[43m(\u001b[49m\u001b[43mfunc\u001b[49m\u001b[43m)\u001b[49m\n\u001b[32m   1520\u001b[39m     res_blocks.extend(nbs)\n\u001b[32m   1522\u001b[39m index = Index([\u001b[38;5;28;01mNone\u001b[39;00m])  \u001b[38;5;66;03m# placeholder\u001b[39;00m\n",
      "\u001b[36mFile \u001b[39m\u001b[32mf:\\Anaconda3\\envs\\Data_Analysis\\Lib\\site-packages\\pandas\\core\\internals\\blocks.py:406\u001b[39m, in \u001b[36mBlock.reduce\u001b[39m\u001b[34m(self, func)\u001b[39m\n\u001b[32m    400\u001b[39m \u001b[38;5;129m@final\u001b[39m\n\u001b[32m    401\u001b[39m \u001b[38;5;28;01mdef\u001b[39;00m\u001b[38;5;250m \u001b[39m\u001b[34mreduce\u001b[39m(\u001b[38;5;28mself\u001b[39m, func) -> \u001b[38;5;28mlist\u001b[39m[Block]:\n\u001b[32m    402\u001b[39m     \u001b[38;5;66;03m# We will apply the function and reshape the result into a single-row\u001b[39;00m\n\u001b[32m    403\u001b[39m     \u001b[38;5;66;03m#  Block with the same mgr_locs; squeezing will be done at a higher level\u001b[39;00m\n\u001b[32m    404\u001b[39m     \u001b[38;5;28;01massert\u001b[39;00m \u001b[38;5;28mself\u001b[39m.ndim == \u001b[32m2\u001b[39m\n\u001b[32m--> \u001b[39m\u001b[32m406\u001b[39m     result = \u001b[43mfunc\u001b[49m\u001b[43m(\u001b[49m\u001b[38;5;28;43mself\u001b[39;49m\u001b[43m.\u001b[49m\u001b[43mvalues\u001b[49m\u001b[43m)\u001b[49m\n\u001b[32m    408\u001b[39m     \u001b[38;5;28;01mif\u001b[39;00m \u001b[38;5;28mself\u001b[39m.values.ndim == \u001b[32m1\u001b[39m:\n\u001b[32m    409\u001b[39m         res_values = result\n",
      "\u001b[36mFile \u001b[39m\u001b[32mf:\\Anaconda3\\envs\\Data_Analysis\\Lib\\site-packages\\pandas\\core\\frame.py:11508\u001b[39m, in \u001b[36mDataFrame._reduce.<locals>.blk_func\u001b[39m\u001b[34m(values, axis)\u001b[39m\n\u001b[32m  11506\u001b[39m         \u001b[38;5;28;01mreturn\u001b[39;00m np.array([result])\n\u001b[32m  11507\u001b[39m \u001b[38;5;28;01melse\u001b[39;00m:\n\u001b[32m> \u001b[39m\u001b[32m11508\u001b[39m     \u001b[38;5;28;01mreturn\u001b[39;00m \u001b[43mop\u001b[49m\u001b[43m(\u001b[49m\u001b[43mvalues\u001b[49m\u001b[43m,\u001b[49m\u001b[43m \u001b[49m\u001b[43maxis\u001b[49m\u001b[43m=\u001b[49m\u001b[43maxis\u001b[49m\u001b[43m,\u001b[49m\u001b[43m \u001b[49m\u001b[43mskipna\u001b[49m\u001b[43m=\u001b[49m\u001b[43mskipna\u001b[49m\u001b[43m,\u001b[49m\u001b[43m \u001b[49m\u001b[43m*\u001b[49m\u001b[43m*\u001b[49m\u001b[43mkwds\u001b[49m\u001b[43m)\u001b[49m\n",
      "\u001b[36mFile \u001b[39m\u001b[32mf:\\Anaconda3\\envs\\Data_Analysis\\Lib\\site-packages\\pandas\\core\\nanops.py:147\u001b[39m, in \u001b[36mbottleneck_switch.__call__.<locals>.f\u001b[39m\u001b[34m(values, axis, skipna, **kwds)\u001b[39m\n\u001b[32m    145\u001b[39m         result = alt(values, axis=axis, skipna=skipna, **kwds)\n\u001b[32m    146\u001b[39m \u001b[38;5;28;01melse\u001b[39;00m:\n\u001b[32m--> \u001b[39m\u001b[32m147\u001b[39m     result = \u001b[43malt\u001b[49m\u001b[43m(\u001b[49m\u001b[43mvalues\u001b[49m\u001b[43m,\u001b[49m\u001b[43m \u001b[49m\u001b[43maxis\u001b[49m\u001b[43m=\u001b[49m\u001b[43maxis\u001b[49m\u001b[43m,\u001b[49m\u001b[43m \u001b[49m\u001b[43mskipna\u001b[49m\u001b[43m=\u001b[49m\u001b[43mskipna\u001b[49m\u001b[43m,\u001b[49m\u001b[43m \u001b[49m\u001b[43m*\u001b[49m\u001b[43m*\u001b[49m\u001b[43mkwds\u001b[49m\u001b[43m)\u001b[49m\n\u001b[32m    149\u001b[39m \u001b[38;5;28;01mreturn\u001b[39;00m result\n",
      "\u001b[36mFile \u001b[39m\u001b[32mf:\\Anaconda3\\envs\\Data_Analysis\\Lib\\site-packages\\pandas\\core\\nanops.py:404\u001b[39m, in \u001b[36m_datetimelike_compat.<locals>.new_func\u001b[39m\u001b[34m(values, axis, skipna, mask, **kwargs)\u001b[39m\n\u001b[32m    401\u001b[39m \u001b[38;5;28;01mif\u001b[39;00m datetimelike \u001b[38;5;129;01mand\u001b[39;00m mask \u001b[38;5;129;01mis\u001b[39;00m \u001b[38;5;28;01mNone\u001b[39;00m:\n\u001b[32m    402\u001b[39m     mask = isna(values)\n\u001b[32m--> \u001b[39m\u001b[32m404\u001b[39m result = \u001b[43mfunc\u001b[49m\u001b[43m(\u001b[49m\u001b[43mvalues\u001b[49m\u001b[43m,\u001b[49m\u001b[43m \u001b[49m\u001b[43maxis\u001b[49m\u001b[43m=\u001b[49m\u001b[43maxis\u001b[49m\u001b[43m,\u001b[49m\u001b[43m \u001b[49m\u001b[43mskipna\u001b[49m\u001b[43m=\u001b[49m\u001b[43mskipna\u001b[49m\u001b[43m,\u001b[49m\u001b[43m \u001b[49m\u001b[43mmask\u001b[49m\u001b[43m=\u001b[49m\u001b[43mmask\u001b[49m\u001b[43m,\u001b[49m\u001b[43m \u001b[49m\u001b[43m*\u001b[49m\u001b[43m*\u001b[49m\u001b[43mkwargs\u001b[49m\u001b[43m)\u001b[49m\n\u001b[32m    406\u001b[39m \u001b[38;5;28;01mif\u001b[39;00m datetimelike:\n\u001b[32m    407\u001b[39m     result = _wrap_results(result, orig_values.dtype, fill_value=iNaT)\n",
      "\u001b[36mFile \u001b[39m\u001b[32mf:\\Anaconda3\\envs\\Data_Analysis\\Lib\\site-packages\\pandas\\core\\nanops.py:720\u001b[39m, in \u001b[36mnanmean\u001b[39m\u001b[34m(values, axis, skipna, mask)\u001b[39m\n\u001b[32m    718\u001b[39m count = _get_counts(values.shape, mask, axis, dtype=dtype_count)\n\u001b[32m    719\u001b[39m the_sum = values.sum(axis, dtype=dtype_sum)\n\u001b[32m--> \u001b[39m\u001b[32m720\u001b[39m the_sum = \u001b[43m_ensure_numeric\u001b[49m\u001b[43m(\u001b[49m\u001b[43mthe_sum\u001b[49m\u001b[43m)\u001b[49m\n\u001b[32m    722\u001b[39m \u001b[38;5;28;01mif\u001b[39;00m axis \u001b[38;5;129;01mis\u001b[39;00m \u001b[38;5;129;01mnot\u001b[39;00m \u001b[38;5;28;01mNone\u001b[39;00m \u001b[38;5;129;01mand\u001b[39;00m \u001b[38;5;28mgetattr\u001b[39m(the_sum, \u001b[33m\"\u001b[39m\u001b[33mndim\u001b[39m\u001b[33m\"\u001b[39m, \u001b[38;5;28;01mFalse\u001b[39;00m):\n\u001b[32m    723\u001b[39m     count = cast(np.ndarray, count)\n",
      "\u001b[36mFile \u001b[39m\u001b[32mf:\\Anaconda3\\envs\\Data_Analysis\\Lib\\site-packages\\pandas\\core\\nanops.py:1686\u001b[39m, in \u001b[36m_ensure_numeric\u001b[39m\u001b[34m(x)\u001b[39m\n\u001b[32m   1683\u001b[39m inferred = lib.infer_dtype(x)\n\u001b[32m   1684\u001b[39m \u001b[38;5;28;01mif\u001b[39;00m inferred \u001b[38;5;129;01min\u001b[39;00m [\u001b[33m\"\u001b[39m\u001b[33mstring\u001b[39m\u001b[33m\"\u001b[39m, \u001b[33m\"\u001b[39m\u001b[33mmixed\u001b[39m\u001b[33m\"\u001b[39m]:\n\u001b[32m   1685\u001b[39m     \u001b[38;5;66;03m# GH#44008, GH#36703 avoid casting e.g. strings to numeric\u001b[39;00m\n\u001b[32m-> \u001b[39m\u001b[32m1686\u001b[39m     \u001b[38;5;28;01mraise\u001b[39;00m \u001b[38;5;167;01mTypeError\u001b[39;00m(\u001b[33mf\u001b[39m\u001b[33m\"\u001b[39m\u001b[33mCould not convert \u001b[39m\u001b[38;5;132;01m{\u001b[39;00mx\u001b[38;5;132;01m}\u001b[39;00m\u001b[33m to numeric\u001b[39m\u001b[33m\"\u001b[39m)\n\u001b[32m   1687\u001b[39m \u001b[38;5;28;01mtry\u001b[39;00m:\n\u001b[32m   1688\u001b[39m     x = x.astype(np.complex128)\n",
      "\u001b[31mTypeError\u001b[39m: Could not convert ['小咪小美小明小华老刘老马小王'] to numeric"
     ]
    }
   ],
   "source": [
    "# 描述性统计量\n",
    "\n",
    "import pandas as pd\n",
    "import numpy as np\n",
    "\n",
    "d = {'Name': pd.Series(['小咪', '小美', '小明', '小华', '老刘', '老马', '小王']),\n",
    "     'Age': pd.Series([25, 26, 34, 28, 50, 48, 36]),\n",
    "     'Rating': pd.Series([4.5, 4.0, 4.8, 4.9, 4.2, 4.3, 4.1])}\n",
    "df  = pd.DataFrame(d)\n",
    "\n",
    "# 按列求平均值\n",
    "print(df.mean())\n",
    "\n",
    "# 汇总性描述\n",
    "print(df.describe())"
   ]
  },
  {
   "cell_type": "code",
   "execution_count": 4,
   "id": "085aaf28",
   "metadata": {},
   "outputs": [
    {
     "name": "stdout",
     "output_type": "stream",
     "text": [
      "Age       35.285714\n",
      "Rating     4.400000\n",
      "dtype: float64\n",
      "             Age   Rating\n",
      "count   7.000000  7.00000\n",
      "mean   35.285714  4.40000\n",
      "std    10.209706  0.34641\n",
      "min    25.000000  4.00000\n",
      "25%    27.000000  4.15000\n",
      "50%    34.000000  4.30000\n",
      "75%    42.000000  4.65000\n",
      "max    50.000000  4.90000\n"
     ]
    }
   ],
   "source": [
    "# 描述性统计量\n",
    "\n",
    "import pandas as pd\n",
    "import numpy as np\n",
    "\n",
    "d = {'Name': pd.Series(['小咪', '小美', '小明', '小华', '老刘', '老马', '小王']),\n",
    "     'Age': pd.Series([25, 26, 34, 28, 50, 48, 36]),\n",
    "     'Rating': pd.Series([4.5, 4.0, 4.8, 4.9, 4.2, 4.3, 4.1])}\n",
    "df  = pd.DataFrame(d)\n",
    "\n",
    "# 按列求平均值\n",
    "print(df.mean(numeric_only=True))  # 这将只计算Age和Rating列的平均值，忽略“姓名”列\n",
    "\n",
    "# 方法2\n",
    "# 选择特定的数字列\n",
    "# num = ['Age', 'Rating']\n",
    "# print(df[num].mean())\n",
    "\n",
    "# 汇总性描述\n",
    "print(df.describe())"
   ]
  },
  {
   "cell_type": "code",
   "execution_count": 6,
   "id": "5ac236d0",
   "metadata": {},
   "outputs": [
    {
     "name": "stdout",
     "output_type": "stream",
     "text": [
      "原始数据:\n",
      "       col1      col2\n",
      "1  0.196269  1.117118\n",
      "4  0.555656 -2.714474\n",
      "6  0.108443 -0.648287\n",
      "3  1.172669  1.442093\n",
      "5  1.542197 -0.220894\n",
      "9  0.125527 -0.176247\n",
      "8 -0.892172 -1.057631\n",
      "0 -0.148719 -0.919061\n",
      "2 -0.975608  2.272044\n",
      "7  0.612345 -0.617164\n",
      "\n"
     ]
    }
   ],
   "source": [
    "# 排序\n",
    "import pandas as pd\n",
    "import numpy as np\n",
    "\n",
    "uns_df = pd.DataFrame(np.random.randn(10, 2), index=[1, 4, 6, 3, 5, 9, 8, 0, 2, 7], columns=['col1', 'col2'])\n",
    "sort_df1 = uns_df.sort_index()  # 按标签排序\n",
    "sort_df2 = uns_df.sort_values(by='col1')  # 按值排序\n",
    "\n",
    "print(f'原始数据:\\n{uns_df}\\n')"
   ]
  },
  {
   "cell_type": "code",
   "execution_count": 10,
   "id": "e615260b",
   "metadata": {},
   "outputs": [
    {
     "name": "stdout",
     "output_type": "stream",
     "text": [
      "按标签排序:\n",
      "       col1      col2\n",
      "0 -0.148719 -0.919061\n",
      "1  0.196269  1.117118\n",
      "2 -0.975608  2.272044\n",
      "3  1.172669  1.442093\n",
      "4  0.555656 -2.714474\n",
      "5  1.542197 -0.220894\n",
      "6  0.108443 -0.648287\n",
      "7  0.612345 -0.617164\n",
      "8 -0.892172 -1.057631\n",
      "9  0.125527 -0.176247\n",
      "\n",
      "按col1列的值排序:\n",
      "       col1      col2\n",
      "2 -0.975608  2.272044\n",
      "8 -0.892172 -1.057631\n",
      "0 -0.148719 -0.919061\n",
      "6  0.108443 -0.648287\n",
      "9  0.125527 -0.176247\n",
      "1  0.196269  1.117118\n",
      "4  0.555656 -2.714474\n",
      "7  0.612345 -0.617164\n",
      "3  1.172669  1.442093\n",
      "5  1.542197 -0.220894\n",
      "\n"
     ]
    }
   ],
   "source": [
    "print(f'按标签排序:\\n{sort_df1}\\n')\n",
    "print(f'按col1列的值排序:\\n{sort_df2}\\n')"
   ]
  },
  {
   "cell_type": "code",
   "execution_count": null,
   "id": "8a57d453",
   "metadata": {},
   "outputs": [
    {
     "name": "stdout",
     "output_type": "stream",
     "text": [
      "原始数据:\n",
      "   A  B  C  D\n",
      "0  1  2  3  1\n",
      "1  0  1  4  0\n",
      "2  1  2  3  1\n",
      "3  1  2  3  1\n",
      "\n",
      "去重后的数据:\n",
      "   A  B  C  D\n",
      "0  1  2  3  1\n",
      "1  0  1  4  0\n",
      "\n",
      "删除所有重复行后的数据:\n",
      "   A  B  C  D\n",
      "1  0  1  4  0\n",
      "\n"
     ]
    }
   ],
   "source": [
    "# 去重 （drop_duplicates）\n",
    "import pandas as pd\n",
    "\n",
    "data = {\n",
    "    'A': [1, 0, 1, 1],\n",
    "    'B': [2, 1, 2, 2],\n",
    "    'C': [3, 4, 3, 3],\n",
    "    'D': [1, 0, 1, 1],\n",
    "}\n",
    "df = pd.DataFrame(data)\n",
    "\n",
    "print(f'原始数据:\\n{df}\\n')\n",
    "\n",
    "df2 = df.drop_duplicates()  # 默认保留第一次出现的重复行\n",
    "print(f'去重后的数据:\\n{df2}\\n')\n",
    "\n",
    "#删除所有重复行\n",
    "df3 = df.drop_duplicates(keep=False)\n",
    "print(f'删除所有重复行后的数据:\\n{df3}\\n')"
   ]
  },
  {
   "cell_type": "code",
   "execution_count": 22,
   "id": "d61d5f2f",
   "metadata": {},
   "outputs": [
    {
     "name": "stdout",
     "output_type": "stream",
     "text": [
      "原始数据:\n",
      "          0         1         2\n",
      "A  0.742008 -0.575981 -0.216183\n",
      "B  1.094452  1.293599 -1.668322\n",
      "C       NaN       NaN       NaN\n",
      "D       NaN       NaN       NaN\n",
      "E  0.228445  1.120467  0.127659\n",
      "F  1.229789  0.070838 -1.072751\n",
      "G  1.459015  0.275447 -1.075872\n",
      "H       NaN       NaN       NaN\n"
     ]
    }
   ],
   "source": [
    "# 缺失值处理（NaN）\n",
    "import pandas as pd\n",
    "import numpy as np\n",
    "\n",
    "df = pd.DataFrame(np.random.randn(5, 3), index=['A', 'G', 'E', 'B', 'F'])\n",
    "df = df.reindex(['A', 'B', 'C', 'D', 'E', 'F', 'G', 'H'])\n",
    "print(f'原始数据:\\n{df}')"
   ]
  },
  {
   "cell_type": "code",
   "execution_count": 23,
   "id": "5b2e1f61",
   "metadata": {},
   "outputs": [
    {
     "name": "stdout",
     "output_type": "stream",
     "text": [
      "       0      1      2\n",
      "A  False  False  False\n",
      "B  False  False  False\n",
      "C   True   True   True\n",
      "D   True   True   True\n",
      "E  False  False  False\n",
      "F  False  False  False\n",
      "G  False  False  False\n",
      "H   True   True   True\n"
     ]
    }
   ],
   "source": [
    "# 检查缺失值 （isnull()/notnull）\n",
    "print(df.isnull())"
   ]
  },
  {
   "cell_type": "code",
   "execution_count": 25,
   "id": "0a9ad6d1",
   "metadata": {},
   "outputs": [
    {
     "name": "stdout",
     "output_type": "stream",
     "text": [
      "原始数据:\n",
      "          0         1         2\n",
      "A -1.132636 -0.099704 -1.144869\n",
      "B  0.098508 -0.087080 -1.308507\n",
      "C       NaN       NaN       NaN\n",
      "D       NaN       NaN       NaN\n",
      "E -0.072354  0.557967 -0.027621\n",
      "F -1.178134 -0.765710  0.272358\n",
      "G -0.446205  0.481777  0.099564\n",
      "H       NaN       NaN       NaN\n",
      "\n",
      "填充缺失值后的数据:\n",
      "          0         1         2\n",
      "A -1.132636 -0.099704 -1.144869\n",
      "B  0.098508 -0.087080 -1.308507\n",
      "C  0.000000  0.000000  0.000000\n",
      "D  0.000000  0.000000  0.000000\n",
      "E -0.072354  0.557967 -0.027621\n",
      "F -1.178134 -0.765710  0.272358\n",
      "G -0.446205  0.481777  0.099564\n",
      "H  0.000000  0.000000  0.000000\n",
      "\n"
     ]
    }
   ],
   "source": [
    "# 填充（替换）缺失值（ fillna()方法 ）\n",
    "import pandas as pd\n",
    "import numpy as np\n",
    "\n",
    "df = pd.DataFrame(np.random.randn(5, 3), index=['A', 'G', 'E', 'B', 'F'])\n",
    "df = df.reindex(['A', 'B', 'C', 'D', 'E', 'F', 'G', 'H'])\n",
    "\n",
    "print(f'原始数据:\\n{df}\\n')\n",
    "\n",
    "df_filled = df.fillna(0)  # 用0填充缺失值\n",
    "print(f'填充缺失值后的数据:\\n{df_filled}\\n')"
   ]
  },
  {
   "cell_type": "code",
   "execution_count": 26,
   "id": "8c9fdf95",
   "metadata": {},
   "outputs": [
    {
     "name": "stdout",
     "output_type": "stream",
     "text": [
      "原始数据:\n",
      "          0         1         2\n",
      "A  0.272652  0.573543 -0.868404\n",
      "B  1.179051  0.119140 -0.003239\n",
      "C       NaN       NaN       NaN\n",
      "D       NaN       NaN       NaN\n",
      "E  0.252224 -0.424028 -0.745017\n",
      "F -0.933541 -1.422820  0.321722\n",
      "G -1.358004  0.885794 -3.128848\n",
      "H       NaN       NaN       NaN\n",
      "\n",
      "删除缺失值后的数据:\n",
      "          0         1         2\n",
      "A  0.272652  0.573543 -0.868404\n",
      "B  1.179051  0.119140 -0.003239\n",
      "E  0.252224 -0.424028 -0.745017\n",
      "F -0.933541 -1.422820  0.321722\n",
      "G -1.358004  0.885794 -3.128848\n",
      "\n"
     ]
    }
   ],
   "source": [
    "# 删除缺失值（ dropna()方法 ）\n",
    "import pandas as pd\n",
    "import numpy as np\n",
    "\n",
    "df = pd.DataFrame(np.random.randn(5, 3), index=['A', 'G', 'E', 'B', 'F'])\n",
    "df = df.reindex(['A', 'B', 'C', 'D', 'E', 'F', 'G', 'H'])\n",
    "\n",
    "print(f'原始数据:\\n{df}\\n')\n",
    "\n",
    "df_dropped = df.dropna()  # 删除含有缺失值的行\n",
    "print(f'删除缺失值后的数据:\\n{df_dropped}\\n')"
   ]
  }
 ],
 "metadata": {
  "kernelspec": {
   "display_name": "Data_Analysis",
   "language": "python",
   "name": "python3"
  },
  "language_info": {
   "codemirror_mode": {
    "name": "ipython",
    "version": 3
   },
   "file_extension": ".py",
   "mimetype": "text/x-python",
   "name": "python",
   "nbconvert_exporter": "python",
   "pygments_lexer": "ipython3",
   "version": "3.13.7"
  }
 },
 "nbformat": 4,
 "nbformat_minor": 5
}
